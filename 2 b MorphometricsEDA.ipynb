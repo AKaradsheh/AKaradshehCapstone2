{
 "cells": [
  {
   "metadata": {},
   "cell_type": "markdown",
   "source": [
    "## Morphometrics EDA\n",
    "\n",
    "##### In this notebook, I will explore the morphometric data, adding calculated fields and correlate with mortality, morbidity and activity level. In later notebooks, I will add the sleep data, meds and labs, time permitting."
   ],
   "id": "e013d91ef0f454d5"
  },
  {
   "metadata": {
    "ExecuteTime": {
     "end_time": "2025-03-30T18:28:34.650213Z",
     "start_time": "2025-03-30T18:28:34.639135Z"
    }
   },
   "cell_type": "code",
   "source": [
    "import pandas as pd\n",
    "import json\n",
    "\n",
    "import os\n",
    "import numpy as np\n",
    "import matplotlib.pyplot as plt\n",
    "# Set a style for better-looking plots\n",
    "plt.style.use('seaborn-v0_8-deep')  # Optional: makes plots look nicer\n",
    "import seaborn as sns\n",
    "from sklearn.impute import KNNImputer\n",
    "from sklearn.model_selection import train_test_split\n",
    "from sklearn.preprocessing import StandardScaler, OneHotEncoder\n",
    "from sklearn.compose import ColumnTransformer\n",
    "from sklearn.pipeline import Pipeline\n",
    "from sklearn.linear_model import LogisticRegression\n",
    "from sklearn.metrics import classification_report, confusion_matrix, accuracy_score\n"
   ],
   "id": "f59833ee421e6bd2",
   "outputs": [],
   "execution_count": 2
  },
  {
   "metadata": {
    "ExecuteTime": {
     "end_time": "2025-03-30T18:33:56.345196Z",
     "start_time": "2025-03-30T18:33:56.291962Z"
    }
   },
   "cell_type": "code",
   "source": [
    " #  ('../data/dataCombined/NHANES_mort_bmx.csv')\n",
    "#  load the data \n",
    "df = pd.read_csv('../data/dataCombined/NHANES_mort_bmx.csv')"
   ],
   "id": "49ef0f5299fb4276",
   "outputs": [],
   "execution_count": 7
  },
  {
   "metadata": {
    "ExecuteTime": {
     "end_time": "2025-03-30T18:41:31.030106Z",
     "start_time": "2025-03-30T18:41:31.025589Z"
    }
   },
   "cell_type": "code",
   "source": [
    "# Mortality status (1 = dead, 0 = alive), standard NHANES mortality variable.\n",
    "\n",
    "\n",
    "pd.set_option('display.max_columns', None)\n",
    "pd.set_option('display.max_rows', None)\n",
    "\n",
    "\n",
    "# Columns to manage\n",
    "columns_to_manage = ['hyperten_mcod', 'ucod_leading', 'diabetes_mcod', 'causeavl']\n",
    "Mort_bpx_fileList_1 = ['SEQN', 'mortstat', 'causeavl', 'permth_exm', 'permth_int',\n",
    "       'ucod_leading', 'RIDAGEMN', 'RIDAGEEX', 'yr5_mort', 'Age', 'hyperten_mcod', 'diabetes_mcod', 'RIDAGEYR', 'Race', 'Gender', 'Diabetes', 'CHF', 'CHD', 'Cancer', 'Stroke', 'MobilityProblem', 'DrinkStatus', 'DrinksPerWeek', 'SmokeCigs', 'Weight_kg', 'Height_cm', 'BMI', 'BMI_cat', 'BMI_kgm2', 'WaistCircumference_cm', 'UpperLegLength_cm', 'CalfCircumference_cm', 'UpperArmLength_cm', 'ArmCircumference_cm', 'ThighCircumference_cm', 'TricepsSkinfold_mm', 'SubscapularSkinfold_mm', 'TAC', 'TLAC', 'WT', 'ST', 'MVPA', 'SATP', 'ASTP', 'mi1', 'si1', 'mi2', 'si2', 'mi3', 'si3', 'mi4', 'si4', 'mi5', 'si5',\n",
    "       'mi6', 'si6', 'sPC1', 'sPC5', 'sPC6', 'Exclude']\n",
    "\n"
   ],
   "id": "9d94f635840b801f",
   "outputs": [],
   "execution_count": 10
  },
  {
   "metadata": {
    "ExecuteTime": {
     "end_time": "2025-03-30T18:43:17.030994Z",
     "start_time": "2025-03-30T18:43:17.019241Z"
    }
   },
   "cell_type": "code",
   "source": [
    "# Check unique values by mortstat\n",
    "for col in columns_to_manage:\n",
    "    print(f\"\\nUnique Values in {col} by Mortality Status:\")\n",
    "    print(df.groupby('mortstat')[col].value_counts(dropna=False))"
   ],
   "id": "e638a46d7a36aefb",
   "outputs": [
    {
     "name": "stdout",
     "output_type": "stream",
     "text": [
      "\n",
      "Unique Values in hyperten_mcod by Mortality Status:\n",
      "mortstat  hyperten_mcod\n",
      "0         NaN              2698\n",
      "1         0.0               429\n",
      "          1.0                70\n",
      "          NaN                 1\n",
      "Name: count, dtype: int64\n",
      "\n",
      "Unique Values in ucod_leading by Mortality Status:\n",
      "mortstat  ucod_leading\n",
      "0         NaN             2698\n",
      "1         2.0              143\n",
      "          10.0             134\n",
      "          1.0              111\n",
      "          3.0               28\n",
      "          5.0               28\n",
      "          7.0               20\n",
      "          6.0               12\n",
      "          8.0               12\n",
      "          9.0               11\n",
      "          NaN                1\n",
      "Name: count, dtype: int64\n",
      "\n",
      "Unique Values in diabetes_mcod by Mortality Status:\n",
      "mortstat  diabetes_mcod\n",
      "0         NaN              2698\n",
      "1         0.0               430\n",
      "          1.0                69\n",
      "          NaN                 1\n",
      "Name: count, dtype: int64\n",
      "\n",
      "Unique Values in causeavl by Mortality Status:\n",
      "mortstat  causeavl\n",
      "0         NaN         2698\n",
      "1         1.0          499\n",
      "          0.0            1\n",
      "Name: count, dtype: int64\n"
     ]
    }
   ],
   "execution_count": 11
  },
  {
   "metadata": {},
   "cell_type": "code",
   "outputs": [],
   "execution_count": null,
   "source": "",
   "id": "7d55a76e6e73c3e4"
  }
 ],
 "metadata": {
  "kernelspec": {
   "display_name": "Python 3",
   "language": "python",
   "name": "python3"
  },
  "language_info": {
   "codemirror_mode": {
    "name": "ipython",
    "version": 2
   },
   "file_extension": ".py",
   "mimetype": "text/x-python",
   "name": "python",
   "nbconvert_exporter": "python",
   "pygments_lexer": "ipython2",
   "version": "2.7.6"
  }
 },
 "nbformat": 4,
 "nbformat_minor": 5
}
