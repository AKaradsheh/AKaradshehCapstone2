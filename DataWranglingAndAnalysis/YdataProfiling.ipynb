{
 "cells": [
  {
   "cell_type": "code",
   "id": "initial_id",
   "metadata": {
    "collapsed": true,
    "ExecuteTime": {
     "end_time": "2024-06-29T18:23:53.354621Z",
     "start_time": "2024-06-29T18:23:51.740099Z"
    }
   },
   "source": [
    "import pandas as pd\n",
    "import os\n",
    "import numpy as np\n",
    "import matplotlib.pyplot as plt\n",
    "import seaborn as sns\n",
    "from sklearn.model_selection import train_test_split\n",
    "from sklearn.preprocessing import StandardScaler, OneHotEncoder\n",
    "from sklearn.compose import ColumnTransformer\n",
    "from sklearn.pipeline import Pipeline\n",
    "from sklearn.linear_model import LogisticRegression\n",
    "from sklearn.metrics import classification_report, confusion_matrix, accuracy_score\n",
    "\n",
    "from nhanes.utils import get_nhanes_year_code_dict, get_source_code_from_filepath\n",
    "from nhanes.utils import EmptySectionError, make_long_variable_name\n",
    "from nhanes.utils import get_vars_to_keep, get_datasets\n",
    "\n",
    "from ydata_profiling import ProfileReport\n",
    "\n",
    "\n",
    "# Load the file\n",
    "file_path = '../data/NHANES_analysis_data.csv'\n",
    "data = pd.read_csv(file_path)\n",
    "\n",
    "# Display the first few rows of the dataset and the column names to understand its structure\n",
    "data.head(), data.columns\n",
    "\n"
   ],
   "outputs": [
    {
     "data": {
      "text/plain": [
       "(   Unnamed: 0   SEQN  PAXCAL  PAXSTAT  WEEKDAY  SDDSRVYR  eligstat  mortstat  \\\n",
       " 0          29  21009       1        1        1         3         1         0   \n",
       " 1          36  21010       1        1        7         3         1         0   \n",
       " 2          43  21012       1        1        5         3         1         0   \n",
       " 3          57  21015       1        1        5         3         1         1   \n",
       " 4          85  21019       1        1        1         3         1         0   \n",
       " \n",
       "    causeavl  permth_exm  ...        si3       mi4        si4        mi5  \\\n",
       " 0       NaN          91  ...  10.111268 -5.672251   4.758967  -7.065432   \n",
       " 1       NaN         102  ...  15.838752  4.406696  14.108764   4.135414   \n",
       " 2       NaN          89  ...  16.225173 -0.181256  15.776060 -14.312063   \n",
       " 3       1.0          24  ...   7.191713 -2.059667  13.697082  -3.361531   \n",
       " 4       NaN         100  ...  14.528884  4.161097   9.919867  -5.008378   \n",
       " \n",
       "          si5       mi6        si6      sPC1      sPC5      sPC6  \n",
       " 0  15.636902 -5.991983   7.739753  2.665684  4.021060  1.837869  \n",
       " 1  10.530553  2.331719  10.424343  3.072633  2.748811  1.733210  \n",
       " 2  11.755317 -0.950603  11.744050  2.509933  1.593187  3.282618  \n",
       " 3   6.105708  6.648376   4.793156  2.582593  2.072801  1.495627  \n",
       " 4   7.293807  0.761791  14.426133  1.522058  0.570713  4.032626  \n",
       " \n",
       " [5 rows x 81 columns],\n",
       " Index(['Unnamed: 0', 'SEQN', 'PAXCAL', 'PAXSTAT', 'WEEKDAY', 'SDDSRVYR',\n",
       "        'eligstat', 'mortstat', 'causeavl', 'permth_exm', 'permth_int',\n",
       "        'ucod_leading', 'diabetes_mcod', 'hyperten_mcod', 'mortsrce_ndi',\n",
       "        'mortsrce_cms', 'mortsrce_ssa', 'mortsrce_dc', 'mortsrce_dcl',\n",
       "        'SDMVPSU', 'SDMVSTRA', 'WTINT2YR', 'WTMEC2YR', 'RIDAGEMN', 'RIDAGEEX',\n",
       "        'RIDAGEYR', 'BMI', 'BMI_cat', 'Race', 'Gender', 'Diabetes', 'CHF',\n",
       "        'CHD', 'Cancer', 'Stroke', 'EducationAdult', 'MobilityProblem',\n",
       "        'DrinkStatus', 'DrinksPerWeek', 'SmokeCigs', 'yr5_mort', 'Age',\n",
       "        'Exclude', 'wtint2yr_unadj', 'wtmec2yr_unadj', 'wtint2yr_unadj_norm',\n",
       "        'wtmec2yr_unadj_norm', 'wtint4yr_unadj', 'wtint4yr_unadj_norm',\n",
       "        'wtmec4yr_unadj', 'wtmec4yr_unadj_norm', 'wtint2yr_adj',\n",
       "        'wtint2yr_adj_norm', 'wtmec2yr_adj', 'wtmec2yr_adj_norm',\n",
       "        'wtint4yr_adj', 'wtint4yr_adj_norm', 'wtmec4yr_adj',\n",
       "        'wtmec4yr_adj_norm', 'TAC', 'TLAC', 'WT', 'ST', 'MVPA', 'SATP', 'ASTP',\n",
       "        'mi1', 'si1', 'mi2', 'si2', 'mi3', 'si3', 'mi4', 'si4', 'mi5', 'si5',\n",
       "        'mi6', 'si6', 'sPC1', 'sPC5', 'sPC6'],\n",
       "       dtype='object'))"
      ]
     },
     "execution_count": 6,
     "metadata": {},
     "output_type": "execute_result"
    }
   ],
   "execution_count": 6
  },
  {
   "metadata": {
    "ExecuteTime": {
     "end_time": "2024-06-29T18:27:00.562536Z",
     "start_time": "2024-06-29T18:27:00.026204Z"
    }
   },
   "cell_type": "code",
   "source": "profile = ProfileReport(data, title=\"Pandas Profiling Report\", correlations={\"auto\": {\"calculate\": False}})\n",
   "id": "19c82fb3b3fcfb4e",
   "outputs": [],
   "execution_count": 9
  },
  {
   "metadata": {
    "ExecuteTime": {
     "end_time": "2024-06-29T18:31:11.776499Z",
     "start_time": "2024-06-29T18:27:07.184755Z"
    }
   },
   "cell_type": "code",
   "source": "profile.to_widgets()",
   "id": "38ff8110afe48acf",
   "outputs": [
    {
     "data": {
      "text/plain": [
       "Summarize dataset:   0%|          | 0/5 [00:00<?, ?it/s]"
      ],
      "application/vnd.jupyter.widget-view+json": {
       "version_major": 2,
       "version_minor": 0,
       "model_id": "08892f7be226418eaac381a3bd2dc719"
      }
     },
     "metadata": {},
     "output_type": "display_data"
    },
    {
     "data": {
      "text/plain": [
       "Generate report structure:   0%|          | 0/1 [00:00<?, ?it/s]"
      ],
      "application/vnd.jupyter.widget-view+json": {
       "version_major": 2,
       "version_minor": 0,
       "model_id": "872f0e6d6d194568aa1d1973ed854f31"
      }
     },
     "metadata": {},
     "output_type": "display_data"
    },
    {
     "data": {
      "text/plain": [
       "Render widgets:   0%|          | 0/1 [00:00<?, ?it/s]"
      ],
      "application/vnd.jupyter.widget-view+json": {
       "version_major": 2,
       "version_minor": 0,
       "model_id": "960f57adb3e74ba4a891dea099a095ba"
      }
     },
     "metadata": {},
     "output_type": "display_data"
    },
    {
     "name": "stderr",
     "output_type": "stream",
     "text": [
      "IOPub message rate exceeded.\n",
      "The Jupyter server will temporarily stop sending output\n",
      "to the client in order to avoid crashing it.\n",
      "To change this limit, set the config variable\n",
      "`--ServerApp.iopub_msg_rate_limit`.\n",
      "\n",
      "Current values:\n",
      "ServerApp.iopub_msg_rate_limit=1000.0 (msgs/sec)\n",
      "ServerApp.rate_limit_window=3.0 (secs)\n",
      "\n",
      "IOPub message rate exceeded.\n",
      "The Jupyter server will temporarily stop sending output\n",
      "to the client in order to avoid crashing it.\n",
      "To change this limit, set the config variable\n",
      "`--ServerApp.iopub_msg_rate_limit`.\n",
      "\n",
      "Current values:\n",
      "ServerApp.iopub_msg_rate_limit=1000.0 (msgs/sec)\n",
      "ServerApp.rate_limit_window=3.0 (secs)\n",
      "\n",
      "IOPub message rate exceeded.\n",
      "The Jupyter server will temporarily stop sending output\n",
      "to the client in order to avoid crashing it.\n",
      "To change this limit, set the config variable\n",
      "`--ServerApp.iopub_msg_rate_limit`.\n",
      "\n",
      "Current values:\n",
      "ServerApp.iopub_msg_rate_limit=1000.0 (msgs/sec)\n",
      "ServerApp.rate_limit_window=3.0 (secs)\n",
      "\n",
      "IOPub message rate exceeded.\n",
      "The Jupyter server will temporarily stop sending output\n",
      "to the client in order to avoid crashing it.\n",
      "To change this limit, set the config variable\n",
      "`--ServerApp.iopub_msg_rate_limit`.\n",
      "\n",
      "Current values:\n",
      "ServerApp.iopub_msg_rate_limit=1000.0 (msgs/sec)\n",
      "ServerApp.rate_limit_window=3.0 (secs)\n",
      "\n"
     ]
    },
    {
     "data": {
      "text/plain": [
       "VBox(children=(Tab(children=(Tab(children=(GridBox(children=(VBox(children=(GridspecLayout(children=(HTML(valu…"
      ],
      "application/vnd.jupyter.widget-view+json": {
       "version_major": 2,
       "version_minor": 0,
       "model_id": "8b16bb69c295442787d77e787a9a6dec"
      }
     },
     "metadata": {},
     "output_type": "display_data"
    }
   ],
   "execution_count": 10
  },
  {
   "metadata": {
    "jupyter": {
     "is_executing": true
    },
    "ExecuteTime": {
     "start_time": "2024-06-29T18:46:46.009186Z"
    }
   },
   "cell_type": "code",
   "source": "profile.to_notebook_iframe()",
   "id": "a3c788eee2198982",
   "outputs": [],
   "execution_count": null
  },
  {
   "metadata": {
    "ExecuteTime": {
     "end_time": "2024-06-29T18:32:03.751844Z",
     "start_time": "2024-06-29T18:31:26.207901Z"
    }
   },
   "cell_type": "code",
   "source": "profile.to_file(\"../data/firstydatareport.html\")",
   "id": "fdf727aeedff9068",
   "outputs": [
    {
     "data": {
      "text/plain": [
       "Render HTML:   0%|          | 0/1 [00:00<?, ?it/s]"
      ],
      "application/vnd.jupyter.widget-view+json": {
       "version_major": 2,
       "version_minor": 0,
       "model_id": "f737814642ab402a8361abd494f236c8"
      }
     },
     "metadata": {},
     "output_type": "display_data"
    },
    {
     "data": {
      "text/plain": [
       "Export report to file:   0%|          | 0/1 [00:00<?, ?it/s]"
      ],
      "application/vnd.jupyter.widget-view+json": {
       "version_major": 2,
       "version_minor": 0,
       "model_id": "1622aa6b55c94cd1bbf26d630579f341"
      }
     },
     "metadata": {},
     "output_type": "display_data"
    }
   ],
   "execution_count": 11
  },
  {
   "metadata": {
    "ExecuteTime": {
     "end_time": "2024-06-29T18:39:43.093330Z",
     "start_time": "2024-06-29T18:39:42.884540Z"
    }
   },
   "cell_type": "code",
   "source": [
    "# As a JSON string\n",
    "json_data = profile.to_json()\n",
    "\n",
    "# As a file\n",
    "profile.to_file(\"../data.firstdatareportcopy.json\")"
   ],
   "id": "466c02d6ae9f0cb8",
   "outputs": [
    {
     "data": {
      "text/plain": [
       "Export report to file:   0%|          | 0/1 [00:00<?, ?it/s]"
      ],
      "application/vnd.jupyter.widget-view+json": {
       "version_major": 2,
       "version_minor": 0,
       "model_id": "1df3e9bf5e7343b396a4775aa4bde5f5"
      }
     },
     "metadata": {},
     "output_type": "display_data"
    }
   ],
   "execution_count": 15
  },
  {
   "metadata": {
    "ExecuteTime": {
     "end_time": "2024-06-29T18:40:18.764446Z",
     "start_time": "2024-06-29T18:40:18.114337Z"
    }
   },
   "cell_type": "code",
   "source": "profile = ProfileReport(data, title=\"Profiling Report\", explorative=True)",
   "id": "b5da3916d0b829b",
   "outputs": [],
   "execution_count": 16
  },
  {
   "metadata": {
    "ExecuteTime": {
     "end_time": "2024-06-29T18:45:45.288596Z",
     "start_time": "2024-06-29T18:41:20.737547Z"
    }
   },
   "cell_type": "code",
   "source": "profile.to_file(\"../data/firstydatareportexplo.html\")",
   "id": "fc4a4ecaa22aed6f",
   "outputs": [
    {
     "data": {
      "text/plain": [
       "Summarize dataset:   0%|          | 0/5 [00:00<?, ?it/s]"
      ],
      "application/vnd.jupyter.widget-view+json": {
       "version_major": 2,
       "version_minor": 0,
       "model_id": "bcfb1559cfc24c45a1e544970c9b9d26"
      }
     },
     "metadata": {},
     "output_type": "display_data"
    },
    {
     "name": "stderr",
     "output_type": "stream",
     "text": [
      "C:\\Users\\adlik\\PycharmProjects\\CapstoneTwoNHANES20032006\\.venv\\Lib\\site-packages\\ydata_profiling\\model\\correlations.py:66: UserWarning: There was an attempt to calculate the auto correlation, but this failed.\n",
      "To hide this warning, disable the calculation\n",
      "(using `df.profile_report(correlations={\"auto\": {\"calculate\": False}})`\n",
      "If this is problematic for your use case, please report this as an issue:\n",
      "https://github.com/ydataai/ydata-profiling/issues\n",
      "(include the error message: 'could not convert string to float: 'Obese'')\n",
      "  warnings.warn(\n"
     ]
    },
    {
     "data": {
      "text/plain": [
       "Generate report structure:   0%|          | 0/1 [00:00<?, ?it/s]"
      ],
      "application/vnd.jupyter.widget-view+json": {
       "version_major": 2,
       "version_minor": 0,
       "model_id": "d3436655790d4caeb709ee205ea3b400"
      }
     },
     "metadata": {},
     "output_type": "display_data"
    },
    {
     "data": {
      "text/plain": [
       "Render HTML:   0%|          | 0/1 [00:00<?, ?it/s]"
      ],
      "application/vnd.jupyter.widget-view+json": {
       "version_major": 2,
       "version_minor": 0,
       "model_id": "6e14d737dea24ad0a16d5301019b9030"
      }
     },
     "metadata": {},
     "output_type": "display_data"
    },
    {
     "data": {
      "text/plain": [
       "Export report to file:   0%|          | 0/1 [00:00<?, ?it/s]"
      ],
      "application/vnd.jupyter.widget-view+json": {
       "version_major": 2,
       "version_minor": 0,
       "model_id": "9f79b6f5f43d46ab82239b0583b52fbd"
      }
     },
     "metadata": {},
     "output_type": "display_data"
    }
   ],
   "execution_count": 17
  },
  {
   "metadata": {},
   "cell_type": "code",
   "outputs": [],
   "execution_count": null,
   "source": "",
   "id": "e4287628d4413f3e"
  }
 ],
 "metadata": {
  "kernelspec": {
   "display_name": "Python 3",
   "language": "python",
   "name": "python3"
  },
  "language_info": {
   "codemirror_mode": {
    "name": "ipython",
    "version": 2
   },
   "file_extension": ".py",
   "mimetype": "text/x-python",
   "name": "python",
   "nbconvert_exporter": "python",
   "pygments_lexer": "ipython2",
   "version": "2.7.6"
  }
 },
 "nbformat": 4,
 "nbformat_minor": 5
}
